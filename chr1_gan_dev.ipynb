{
 "cells": [
  {
   "cell_type": "markdown",
   "metadata": {
    "slideshow": {
     "slide_type": "slide"
    }
   },
   "source": [
    "# WGAN-GP DNA Generation"
   ]
  },
  {
   "cell_type": "markdown",
   "metadata": {
    "slideshow": {
     "slide_type": "skip"
    }
   },
   "source": [
    "## Imports"
   ]
  },
  {
   "cell_type": "code",
   "execution_count": null,
   "metadata": {
    "slideshow": {
     "slide_type": "skip"
    }
   },
   "outputs": [],
   "source": [
    "import os\n",
    "import time\n",
    "\n",
    "import matplotlib.pyplot as plt\n",
    "import numpy as np\n",
    "\n",
    "import torch\n",
    "from torch import nn, optim, autograd\n",
    "\n",
    "from datasets.ChrDataset import Chr1Dataset, Chr1DevDataset\n",
    "from models.Discriminator import Discriminator\n",
    "from models.Generator import Generator\n",
    "from models.WGANGP import WGANGP\n",
    "from trainers.wgan_gp_trainer import WGANGPTrainer\n",
    "from evaluators.wgan_gp_evaluator import WGANGPEvaluator\n",
    "from utils.sequence_utils import *\n",
    "\n",
    "# Some magic so that the notebook will reload external python modules;\n",
    "# see http://stackoverflow.com/questions/1907993/autoreload-of-modules-in-ipython\n",
    "%load_ext autoreload\n",
    "%autoreload 2"
   ]
  },
  {
   "cell_type": "markdown",
   "metadata": {
    "slideshow": {
     "slide_type": "slide"
    }
   },
   "source": [
    "## CHR1 Data Loading and preprocessing"
   ]
  },
  {
   "cell_type": "code",
   "execution_count": 2,
   "metadata": {
    "slideshow": {
     "slide_type": "notes"
    }
   },
   "outputs": [],
   "source": [
    "# Set the random seeds for reproducability\n",
    "torch.manual_seed(1234)\n",
    "torch.cuda.manual_seed(1234)"
   ]
  },
  {
   "cell_type": "code",
   "execution_count": 3,
   "metadata": {
    "slideshow": {
     "slide_type": "notes"
    }
   },
   "outputs": [],
   "source": [
    "torch.cuda.set_device(0)"
   ]
  },
  {
   "cell_type": "code",
   "execution_count": 4,
   "metadata": {
    "slideshow": {
     "slide_type": "subslide"
    }
   },
   "outputs": [],
   "source": [
    "def chr1_data():\n",
    "    \"\"\" Function to load both the train and test datasets of Chromosome1.\n",
    "    Returns a tuple of both datasets.\n",
    "    \"\"\"\n",
    "    out_dir = './data/chr1'\n",
    "    train_data = Chr1Dataset(root_folder=out_dir, train=True, sequence_size=50)\n",
    "    test_data = Chr1Dataset(root_folder=out_dir, train=False, sequence_size=50)\n",
    "    return train_data, test_data\n",
    "\n",
    "try:\n",
    "   del train_data\n",
    "   del test_data\n",
    "   print('Clear previously loaded data.')\n",
    "except:\n",
    "   pass\n",
    "\n",
    "train_data, test_data = chr1_data()"
   ]
  },
  {
   "cell_type": "code",
   "execution_count": 5,
   "metadata": {
    "slideshow": {
     "slide_type": "subslide"
    }
   },
   "outputs": [
    {
     "name": "stdout",
     "output_type": "stream",
     "text": [
      "Number of train data sequences: 3687696\n",
      "Shape first train sequence one hot: torch.Size([50, 4])\n",
      "Number of test data before split into test-valid sequences: 921924\n",
      "Shape fisrt test sequence one hot: torch.Size([50, 4])\n"
     ]
    }
   ],
   "source": [
    "# Visualize dimensions and number of instatnces\n",
    "print(\"Number of train data sequences:\", len(train_data))\n",
    "print(\"Shape first train sequence one hot:\",train_data[0].shape)\n",
    "\n",
    "print(\"Number of test data before split into test-valid sequences:\", len(test_data))\n",
    "print(\"Shape fisrt test sequence one hot:\",test_data[0].shape)\n"
   ]
  },
  {
   "cell_type": "code",
   "execution_count": 6,
   "metadata": {
    "slideshow": {
     "slide_type": "skip"
    }
   },
   "outputs": [],
   "source": [
    "# Split test data to validation and test set. Note that this should be deterministic with seed = 1234\n",
    "test_set_size = len(test_data)\n",
    "test_length = int(0.5 * test_set_size)\n",
    "validation_len = test_set_size - test_length\n",
    "\n",
    "# Torch's seed comes into play in this line!\n",
    "test_data, validation_data = torch.utils.data.dataset.random_split(test_data, lengths=[test_length, validation_len])"
   ]
  },
  {
   "cell_type": "code",
   "execution_count": 7,
   "metadata": {
    "slideshow": {
     "slide_type": "skip"
    }
   },
   "outputs": [
    {
     "name": "stdout",
     "output_type": "stream",
     "text": [
      "Number of test data sequences: 460962\n",
      "Number of validation data sequences: 460962\n"
     ]
    }
   ],
   "source": [
    "print(\"Number of test data sequences:\", len(test_data))\n",
    "print(\"Number of validation data sequences:\", len(validation_data))"
   ]
  },
  {
   "cell_type": "code",
   "execution_count": 8,
   "metadata": {
    "slideshow": {
     "slide_type": "skip"
    }
   },
   "outputs": [],
   "source": [
    "from torch.utils.data import sampler, DataLoader\n",
    "\n",
    "# We now make a data loader for the validtaion set, that submsamples from it. We don't need a whole\n",
    "# lof of validation here.\n",
    "num_validation = len(validation_data)\n",
    "num_batches = 100\n",
    "batch_size = 128\n",
    "# Define a subsampler for the last 100 batches of validation data set.\n",
    "sampler = sampler.SubsetRandomSampler(range(num_validation - batch_size * num_batches, num_validation))"
   ]
  },
  {
   "cell_type": "code",
   "execution_count": 9,
   "metadata": {
    "slideshow": {
     "slide_type": "subslide"
    }
   },
   "outputs": [],
   "source": [
    "validation_data_loader = DataLoader(validation_data,\n",
    "                    batch_size=batch_size,\n",
    "                    sampler=sampler)"
   ]
  },
  {
   "cell_type": "code",
   "execution_count": 10,
   "metadata": {
    "slideshow": {
     "slide_type": "subslide"
    }
   },
   "outputs": [],
   "source": [
    "train_data_loader = torch.utils.data.DataLoader(train_data,\n",
    "                                                batch_size=128,\n",
    "                                                shuffle=True,\n",
    "                                                drop_last=True,\n",
    "                                                num_workers=4)"
   ]
  },
  {
   "cell_type": "code",
   "execution_count": 11,
   "metadata": {
    "slideshow": {
     "slide_type": "subslide"
    }
   },
   "outputs": [
    {
     "name": "stdout",
     "output_type": "stream",
     "text": [
      "number of training batches  28810\n",
      "number of validation batches  100\n"
     ]
    }
   ],
   "source": [
    "print(\"number of training batches \", len(train_data_loader))\n",
    "print(\"number of validation batches \", len(validation_data_loader))"
   ]
  },
  {
   "cell_type": "markdown",
   "metadata": {
    "slideshow": {
     "slide_type": "slide"
    }
   },
   "source": [
    "## Training"
   ]
  },
  {
   "cell_type": "code",
   "execution_count": null,
   "metadata": {
    "slideshow": {
     "slide_type": "slide"
    }
   },
   "outputs": [],
   "source": [
    "# Both generator and discriminator could be any nn, as long as generator exposes latent_dim variable.\n",
    "discriminator = Discriminator(conv_dim=100, seq_length=50)\n",
    "generator = Generator(latent_dim=100, conv_dim=100, seq_length=50)\n",
    "\n",
    "# Note that turninig our WGANGP object to cuda turns both discriminator and generator to .cuda as they are child models.\n",
    "wgan_gp = WGANGP(discriminator=discriminator, generator=generator).cuda()\n",
    "\n",
    "# If want to log_tbx, TensorBoardX must be up and running.\n",
    "trainer = WGANGPTrainer(wgan_gp,\n",
    "                        train_data_loader=train_data_loader,\n",
    "                        validation_data_loader=validation_data_loader,\n",
    "                        should_log_tbx=False,\n",
    "                        evaluate_every=200,\n",
    "                        experiment_name='latent_space_test',\n",
    "                        num_epochs=1,)\n",
    "\n",
    "trainer.train()"
   ]
  },
  {
   "cell_type": "code",
   "execution_count": 17,
   "metadata": {
    "scrolled": false,
    "slideshow": {
     "slide_type": "subslide"
    }
   },
   "outputs": [
    {
     "data": {
      "image/png": "[encoded data removed]",
      "text/plain": [
       "<matplotlib.figure.Figure at 0x7f17b56bef60>"
      ]
     },
     "metadata": {},
     "output_type": "display_data"
    }
   ],
   "source": [
    "trainer.plot_loss()"
   ]
  },
  {
   "cell_type": "code",
   "execution_count": null,
   "metadata": {},
   "outputs": [],
   "source": [
    "gan = wgan_gp\n",
    "gan.eval()"
   ]
  },
  {
   "cell_type": "code",
   "execution_count": 35,
   "metadata": {},
   "outputs": [
    {
     "name": "stdout",
     "output_type": "stream",
     "text": [
      "Generated Sequence 1: attaacaacctggcacagctactgcacaatataaaggggtaggcctctat\n",
      "Generated Sequence 2: ttttgttctggaacctggctcagaagtctttttggggagagacaaaatat\n",
      "Generated Sequence 3: aggatctttctgccaaattctttgccagaggtgcaattcctaggtgttct\n",
      "Generated Sequence 4: gacagcttcctgacaaagacaaagatagctgagcctggaaagaaagcaat\n",
      "Generated Sequence 5: acaaacaaatttagcagtgaactggagaaggagcagtgaaattaaataat\n",
      "Generated Sequence 6: ataatactcttacaagacaaatctccatgaagaaataacacagcttggat\n",
      "Generated Sequence 7: ctcagacttattctttgaatgtcagaacaaactataaaaaaaatgcaggg\n",
      "Generated Sequence 8: gtgccctggtctctgttttgtttcttttaacaagcacacaccagaaaaga\n",
      "Generated Sequence 9: gtggaaatgaggcactgtgtataataaatttaaaattttccactctttta\n",
      "Generated Sequence 10: atcttcttacagtataggacataatatatgagggtaagcagatgttcagt\n"
     ]
    }
   ],
   "source": [
    "# Sample batch of 10 vectors from latent space\n",
    "batch_of_latent = to_cuda(torch.randn(10, 100))\n",
    "\n",
    "# Generate Sequences\n",
    "generated_sequence = gan.generator(batch_of_latent)\n",
    "\n",
    "for i in range(10):\n",
    "    print(\"Generated Sequence %d: %s\" % (i+1, one_hot_to_seq(test_seq[i].max(dim=1)[1])))"
   ]
  },
  {
   "cell_type": "markdown",
   "metadata": {
    "slideshow": {
     "slide_type": "slide"
    }
   },
   "source": [
    "## Analyze Kmer proportions"
   ]
  },
  {
   "cell_type": "code",
   "execution_count": 19,
   "metadata": {
    "slideshow": {
     "slide_type": "skip"
    }
   },
   "outputs": [],
   "source": [
    "%matplotlib inline\n",
    "from IPython.core.pylabtools import figsize\n",
    "\n",
    "plt.style.use('seaborn-deep')\n",
    "\n",
    "def draw_histogram_for_k(k):\n",
    "    figsize(12, 10)\n",
    "\n",
    "    sorted_keys = sorted(trainer.evaluator.real_kmer_model[k]._kmer_counts.keys())\n",
    "    generated = [trainer.evaluator.kmer_proportions_history[k][-1][key] for key in sorted_keys]\n",
    "    real = [trainer.evaluator.real_kmer_model[k]._kmer_counts[key] for key in sorted_keys]\n",
    "\n",
    "    x = np.array(real)\n",
    "    x = x / np.sum(x)\n",
    "\n",
    "    y = np.array(generated)\n",
    "    y = y / np.sum(y)\n",
    "\n",
    "    ind = np.arange(4**k)  # the x locations for the groups\n",
    "    width = 0.35       # the width of the bars\n",
    "\n",
    "\n",
    "    ax = plt.subplot(2, 2, k + 1)\n",
    "    real = ax.bar(ind, x, width, color='magenta', alpha=0.5)\n",
    "    generated = ax.bar(ind + width, y, width, color='b', alpha=0.5)\n",
    "\n",
    "    # add some text for labels, title and axes ticks\n",
    "    ax.set_ylabel('Frequency')\n",
    "    ax.set_title('Real and Generated')\n",
    "    ax.set_xticks(ind + width / 2)\n",
    "    ax.set_xticklabels(sorted_keys)\n",
    "\n",
    "    ax.legend((real[0], generated[0]), ('real', 'generated'))\n",
    "    plt.tight_layout()\n",
    "    plt.show()"
   ]
  },
  {
   "cell_type": "code",
   "execution_count": 20,
   "metadata": {
    "slideshow": {
     "slide_type": "slide"
    }
   },
   "outputs": [
    {
     "data": {
      "image/png": "[encoded data removed]",
      "text/plain": [
       "<matplotlib.figure.Figure at 0x7f1835e0ee48>"
      ]
     },
     "metadata": {},
     "output_type": "display_data"
    },
    {
     "data": {
      "image/png": "[encoded data removed]",
      "text/plain": [
       "<matplotlib.figure.Figure at 0x7f17ad720630>"
      ]
     },
     "metadata": {},
     "output_type": "display_data"
    }
   ],
   "source": [
    "for k in [1,2]:\n",
    "    draw_histogram_for_k(k)"
   ]
  },
  {
   "cell_type": "code",
   "execution_count": null,
   "metadata": {},
   "outputs": [],
   "source": []
  }
 ],
 "metadata": {
  "kernelspec": {
   "display_name": "Python 3",
   "language": "python",
   "name": "python3"
  },
  "language_info": {
   "codemirror_mode": {
    "name": "ipython",
    "version": 3
   },
   "file_extension": ".py",
   "mimetype": "text/x-python",
   "name": "python",
   "nbconvert_exporter": "python",
   "pygments_lexer": "ipython3",
   "version": "3.6.5"
  }
 },
 "nbformat": 4,
 "nbformat_minor": 2
}
