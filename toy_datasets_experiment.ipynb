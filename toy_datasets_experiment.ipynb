{
 "cells": [
  {
   "cell_type": "markdown",
   "metadata": {
    "slideshow": {
     "slide_type": "slide"
    }
   },
   "source": [
    "# WGAN-GP DNA Generation"
   ]
  },
  {
   "cell_type": "markdown",
   "metadata": {
    "slideshow": {
     "slide_type": "skip"
    }
   },
   "source": [
    "## Imports"
   ]
  },
  {
   "cell_type": "code",
   "execution_count": 1,
   "metadata": {
    "slideshow": {
     "slide_type": "skip"
    }
   },
   "outputs": [],
   "source": [
    "import os\n",
    "import time\n",
    "import json\n",
    "import random\n",
    "\n",
    "import matplotlib.pyplot as plt\n",
    "import numpy as np\n",
    "\n",
    "import torch\n",
    "from torch import nn, optim, autograd\n",
    "\n",
    "from datasets.ChrDataset import ChrDataset\n",
    "from models.Discriminator import Discriminator\n",
    "from models.Generator import Generator\n",
    "from models.WGANGP import WGANGP\n",
    "from trainers.wgan_gp_trainer import WGANGPTrainer\n",
    "from evaluators.wgan_gp_evaluator import WGANGPEvaluator\n",
    "from utils.sequence_utils import *\n",
    "from utils.tensor_utils import *\n",
    "\n",
    "# Some magic so that the notebook will reload external python modules;\n",
    "# see http://stackoverflow.com/questions/1907993/autoreload-of-modules-in-ipython\n",
    "%load_ext autoreload\n",
    "%autoreload 2"
   ]
  },
  {
   "cell_type": "markdown",
   "metadata": {
    "slideshow": {
     "slide_type": "slide"
    }
   },
   "source": [
    "## Data Preprocessing"
   ]
  },
  {
   "cell_type": "code",
   "execution_count": 2,
   "metadata": {
    "slideshow": {
     "slide_type": "notes"
    }
   },
   "outputs": [],
   "source": [
    "# Set the random seeds for reproducability\n",
    "SEED = 1234\n",
    "\n",
    "torch.manual_seed(SEED)\n",
    "torch.cuda.manual_seed(SEED)\n",
    "\n",
    "np.random.seed(SEED)\n",
    "\n",
    "random.seed(SEED)"
   ]
  },
  {
   "cell_type": "code",
   "execution_count": null,
   "metadata": {
    "slideshow": {
     "slide_type": "notes"
    }
   },
   "outputs": [],
   "source": [
    "# Run only if gpu is available\n",
    "torch.cuda.set_device(0)"
   ]
  },
  {
   "cell_type": "markdown",
   "metadata": {},
   "source": [
    "### Dataset Generating Functions"
   ]
  },
  {
   "cell_type": "code",
   "execution_count": 3,
   "metadata": {},
   "outputs": [],
   "source": [
    "# TODO - expand this to generate by kmer, which will take an array of size 4 ** k.\n",
    "def generate_dataset_by_one_mer(name, size=5000000, probs=[0.25,0.25,0.25,0.25]):\n",
    "    \"\"\"Generates a dna dataset, with given name and size.\n",
    "    \n",
    "        Args:\n",
    "            name (string): name for given dataset, will be used to name the folder conatinign it.\n",
    "            size (int): number of bases to be included in the dataset. For example size 6 may result in aacgtg\n",
    "            probs (list): probabilty for every nucleutide base to be chosen.\n",
    "    \"\"\"\n",
    "    folder_path = f'./data/{name}'\n",
    "    if os.path.exists(folder_path):\n",
    "        print(\"Dataset already exists\")\n",
    "        return\n",
    "\n",
    "    if (np.sum(probs) != 1.0):\n",
    "        print(\"probs don't sum to 1\")\n",
    "        return\n",
    "    \n",
    "    os.makedirs(folder_path)\n",
    "    os.makedirs(os.path.join(folder_path,\"raw\"))\n",
    "    os.makedirs(os.path.join(folder_path,\"processed\"))\n",
    "        \n",
    "\n",
    "    # Our dataset functions assume .fa files start with meaningless line, such as the case with hg files.\n",
    "    raw_path = f'./data/{name}/raw/{name}.fa'\n",
    "    f = open(raw_path, \"a\")\n",
    "    f.write(\"\\n\")\n",
    "    \n",
    "    # Default in python 3 is unicdoe string, we don't want this here.\n",
    "    full_sequence = np.random.choice(['a','c','g','t'],size,p=probs).astype('S')\n",
    "    full_sequence.tofile(f)\n",
    "    \n",
    "    # Write the probabilities that have generated this dataset\n",
    "    data_file = open(os.path.join(folder_path,\"meta.txt\"),\"w\")\n",
    "    data_file.write(json.dumps(size) + \"\\n\" + json.dumps(probs))\n",
    "    \n",
    "    data_file.close()\n",
    "    f.close()"
   ]
  },
  {
   "cell_type": "code",
   "execution_count": 6,
   "metadata": {},
   "outputs": [],
   "source": [
    "generate_dataset_by_one_mer(\"gen\", size=10000,probs=[0.2,0.2,0.3,0.3])"
   ]
  },
  {
   "cell_type": "code",
   "execution_count": 8,
   "metadata": {
    "slideshow": {
     "slide_type": "subslide"
    }
   },
   "outputs": [],
   "source": [
    "def get_data(dataset):\n",
    "    \"\"\" Function to load both the train and test datasets of Chromosome1.\n",
    "    Returns a tuple of both datasets.\n",
    "    \"\"\"\n",
    "    # TODO - Change this to be normal\n",
    "    out_dir = './data/' + dataset\n",
    "    train_data = ChrDataset(root_folder=out_dir, raw_file=dataset + '.fa', train=True, sequence_size=50)\n",
    "    test_data = ChrDataset(root_folder=out_dir, raw_file=dataset + '.fa', train=False, sequence_size=50)\n",
    "    return train_data, test_data\n",
    "\n",
    "try:\n",
    "   del train_data\n",
    "   del test_data\n",
    "   print('Clear previously loaded data.')\n",
    "except:\n",
    "   pass\n",
    "\n",
    "train_data, test_data = get_data('gen')"
   ]
  },
  {
   "cell_type": "code",
   "execution_count": 9,
   "metadata": {
    "slideshow": {
     "slide_type": "subslide"
    }
   },
   "outputs": [
    {
     "name": "stdout",
     "output_type": "stream",
     "text": [
      "Number of train data sequences: 160\n",
      "Shape first train sequence one hot: torch.Size([50, 4])\n",
      "Number of test data before split into test-valid sequences: 40\n",
      "Shape fisrt test sequence one hot: torch.Size([50, 4])\n"
     ]
    }
   ],
   "source": [
    "# Visualize dimensions and number of instatnces\n",
    "print(\"Number of train data sequences:\", len(train_data))\n",
    "print(\"Shape first train sequence one hot:\",train_data[0].shape)\n",
    "\n",
    "print(\"Number of test data before split into test-valid sequences:\", len(test_data))\n",
    "print(\"Shape fisrt test sequence one hot:\",test_data[0].shape)\n"
   ]
  },
  {
   "cell_type": "code",
   "execution_count": 10,
   "metadata": {
    "slideshow": {
     "slide_type": "skip"
    }
   },
   "outputs": [],
   "source": [
    "# Split test data to validation and test set. Note that this should be deterministic with seed = 1337\n",
    "test_set_size = len(test_data)\n",
    "test_length = int(0.5 * test_set_size)\n",
    "validation_len = test_set_size - test_length\n",
    "\n",
    "# Torch's seed comes into play in this line!\n",
    "test_data, validation_data = torch.utils.data.dataset.random_split(test_data, lengths=[test_length, validation_len])"
   ]
  },
  {
   "cell_type": "code",
   "execution_count": 11,
   "metadata": {
    "slideshow": {
     "slide_type": "skip"
    }
   },
   "outputs": [
    {
     "name": "stdout",
     "output_type": "stream",
     "text": [
      "Number of test data sequences: 20\n",
      "Number of validation data sequences: 20\n"
     ]
    }
   ],
   "source": [
    "print(\"Number of test data sequences:\", len(test_data))\n",
    "print(\"Number of validation data sequences:\", len(validation_data))"
   ]
  },
  {
   "cell_type": "code",
   "execution_count": 12,
   "metadata": {
    "slideshow": {
     "slide_type": "skip"
    }
   },
   "outputs": [],
   "source": [
    "from torch.utils.data import sampler, DataLoader\n",
    "\n",
    "# We now make a data loader for the validtaion set, that submsamples from it. We don't need a whole\n",
    "# lof of validation here.\n",
    "num_validation = len(validation_data)\n",
    "num_batches = 100\n",
    "batch_size = 128\n",
    "# Define a subsampler for the last 100 batches of validation data set.\n",
    "sampler = sampler.SubsetRandomSampler(range(num_validation - batch_size * num_batches, num_validation))"
   ]
  },
  {
   "cell_type": "code",
   "execution_count": 13,
   "metadata": {
    "slideshow": {
     "slide_type": "subslide"
    }
   },
   "outputs": [],
   "source": [
    "validation_data_loader = DataLoader(validation_data,\n",
    "                    batch_size=batch_size,\n",
    "                    sampler=sampler)"
   ]
  },
  {
   "cell_type": "code",
   "execution_count": 14,
   "metadata": {
    "slideshow": {
     "slide_type": "subslide"
    }
   },
   "outputs": [],
   "source": [
    "train_data_loader = torch.utils.data.DataLoader(train_data,\n",
    "                                                batch_size=128,\n",
    "                                                shuffle=True,\n",
    "                                                drop_last=True,\n",
    "                                                num_workers=4)"
   ]
  },
  {
   "cell_type": "code",
   "execution_count": 15,
   "metadata": {
    "slideshow": {
     "slide_type": "subslide"
    }
   },
   "outputs": [
    {
     "name": "stdout",
     "output_type": "stream",
     "text": [
      "number of training batches  1\n",
      "number of validation batches  100\n"
     ]
    }
   ],
   "source": [
    "print(\"number of training batches \", len(train_data_loader))\n",
    "print(\"number of validation batches \", len(validation_data_loader))"
   ]
  },
  {
   "cell_type": "markdown",
   "metadata": {
    "slideshow": {
     "slide_type": "slide"
    }
   },
   "source": [
    "## Training"
   ]
  },
  {
   "cell_type": "markdown",
   "metadata": {},
   "source": [
    "# Train with x data 4 epoch"
   ]
  },
  {
   "cell_type": "code",
   "execution_count": 253,
   "metadata": {
    "slideshow": {
     "slide_type": "slide"
    }
   },
   "outputs": [
    {
     "data": {
      "application/vnd.jupyter.widget-view+json": {
       "model_id": "ed8f12abbade4d38b93b5265a1f46ce8",
       "version_major": 2,
       "version_minor": 0
      },
      "text/plain": [
       "HBox(children=(IntProgress(value=0, max=500), HTML(value='')))"
      ]
     },
     "metadata": {},
     "output_type": "display_data"
    },
    {
     "name": "stdout",
     "output_type": "stream",
     "text": [
      "\n"
     ]
    }
   ],
   "source": [
    "# Both generator and discriminator could be any nn, as long as generator exposes latent_dim variable.\n",
    "discriminator = Discriminator(conv_dim=100, seq_length=50)\n",
    "generator = Generator(latent_dim=100, conv_dim=100, seq_length=50)\n",
    "\n",
    "# Note that turninig our WGANGP object to cuda turns both discriminator and generator to .cuda as they are child models.\n",
    "wgan_gp = WGANGP(discriminator=discriminator, generator=generator).cuda()\n",
    "\n",
    "trainer = WGANGPTrainer(wgan_gp,\n",
    "                        train_data_loader=train_data_loader,\n",
    "                        validation_data_loader=validation_data_loader,\n",
    "                        should_log_tbx=False,\n",
    "                        num_epochs=4,)\n",
    "\n",
    "trainer.train()"
   ]
  },
  {
   "cell_type": "markdown",
   "metadata": {},
   "source": [
    "# Train with 2x data 2 epoch"
   ]
  },
  {
   "cell_type": "code",
   "execution_count": 263,
   "metadata": {},
   "outputs": [
    {
     "data": {
      "application/vnd.jupyter.widget-view+json": {
       "model_id": "654a86f5b29a4e388fe0853dda445cde",
       "version_major": 2,
       "version_minor": 0
      },
      "text/plain": [
       "HBox(children=(IntProgress(value=0, max=500), HTML(value='')))"
      ]
     },
     "metadata": {},
     "output_type": "display_data"
    },
    {
     "name": "stdout",
     "output_type": "stream",
     "text": [
      "\n"
     ]
    }
   ],
   "source": [
    "# Both generator and discriminator could be any nn, as long as generator exposes latent_dim variable.\n",
    "discriminator = Discriminator(conv_dim=100, seq_length=50)\n",
    "generator = Generator(latent_dim=100, conv_dim=100, seq_length=50)\n",
    "\n",
    "# Note that turninig our WGANGP object to cuda turns both discriminator and generator to .cuda as they are child models.\n",
    "wgan_gp = WGANGP(discriminator=discriminator, generator=generator).cuda()\n",
    "\n",
    "trainer = WGANGPTrainer(wgan_gp,\n",
    "                        train_data_loader=train_data_loader,\n",
    "                        validation_data_loader=validation_data_loader,\n",
    "                        should_log_tbx=False,\n",
    "                        num_epochs=2,)\n",
    "\n",
    "trainer.train()"
   ]
  },
  {
   "cell_type": "markdown",
   "metadata": {},
   "source": [
    "# Train with 4x data 1 epoch"
   ]
  },
  {
   "cell_type": "code",
   "execution_count": 274,
   "metadata": {},
   "outputs": [
    {
     "data": {
      "application/vnd.jupyter.widget-view+json": {
       "model_id": "8f4a48f69bfc4337acca93a35cf72e37",
       "version_major": 2,
       "version_minor": 0
      },
      "text/plain": [
       "HBox(children=(IntProgress(value=0, max=500), HTML(value='')))"
      ]
     },
     "metadata": {},
     "output_type": "display_data"
    },
    {
     "name": "stdout",
     "output_type": "stream",
     "text": [
      "\n"
     ]
    }
   ],
   "source": [
    "# Both generator and discriminator could be any nn, as long as generator exposes latent_dim variable.\n",
    "discriminator = Discriminator(conv_dim=100, seq_length=50)\n",
    "generator = Generator(latent_dim=100, conv_dim=100, seq_length=50)\n",
    "\n",
    "# Note that turninig our WGANGP object to cuda turns both discriminator and generator to .cuda as they are child models.\n",
    "wgan_gp = WGANGP(discriminator=discriminator, generator=generator).cuda()\n",
    "\n",
    "trainer = WGANGPTrainer(wgan_gp,\n",
    "                        train_data_loader=train_data_loader,\n",
    "                        validation_data_loader=validation_data_loader,\n",
    "                        should_log_tbx=False,\n",
    "                        num_epochs=1,)\n",
    "\n",
    "trainer.train()"
   ]
  },
  {
   "cell_type": "code",
   "execution_count": 126,
   "metadata": {
    "scrolled": false,
    "slideshow": {
     "slide_type": "subslide"
    }
   },
   "outputs": [
    {
     "data": {
      "image/png": "[encoded data removed]",
      "text/plain": [
       "<matplotlib.figure.Figure at 0x7ff2c2b01668>"
      ]
     },
     "metadata": {},
     "output_type": "display_data"
    }
   ],
   "source": [
    "trainer.plot_loss()"
   ]
  },
  {
   "cell_type": "code",
   "execution_count": 128,
   "metadata": {
    "scrolled": true
   },
   "outputs": [
    {
     "data": {
      "text/plain": [
       "WGANGP(\n",
       "  (discriminator): Discriminator(\n",
       "    (block): Sequential(\n",
       "      (0): ResBlock(\n",
       "        (res_block): Sequential(\n",
       "          (0): ReLU()\n",
       "          (1): Conv1d(100, 100, kernel_size=(5,), stride=(1,), padding=(2,))\n",
       "          (2): ReLU()\n",
       "          (3): Conv1d(100, 100, kernel_size=(5,), stride=(1,), padding=(2,))\n",
       "        )\n",
       "      )\n",
       "      (1): ResBlock(\n",
       "        (res_block): Sequential(\n",
       "          (0): ReLU()\n",
       "          (1): Conv1d(100, 100, kernel_size=(5,), stride=(1,), padding=(2,))\n",
       "          (2): ReLU()\n",
       "          (3): Conv1d(100, 100, kernel_size=(5,), stride=(1,), padding=(2,))\n",
       "        )\n",
       "      )\n",
       "      (2): ResBlock(\n",
       "        (res_block): Sequential(\n",
       "          (0): ReLU()\n",
       "          (1): Conv1d(100, 100, kernel_size=(5,), stride=(1,), padding=(2,))\n",
       "          (2): ReLU()\n",
       "          (3): Conv1d(100, 100, kernel_size=(5,), stride=(1,), padding=(2,))\n",
       "        )\n",
       "      )\n",
       "      (3): ResBlock(\n",
       "        (res_block): Sequential(\n",
       "          (0): ReLU()\n",
       "          (1): Conv1d(100, 100, kernel_size=(5,), stride=(1,), padding=(2,))\n",
       "          (2): ReLU()\n",
       "          (3): Conv1d(100, 100, kernel_size=(5,), stride=(1,), padding=(2,))\n",
       "        )\n",
       "      )\n",
       "      (4): ResBlock(\n",
       "        (res_block): Sequential(\n",
       "          (0): ReLU()\n",
       "          (1): Conv1d(100, 100, kernel_size=(5,), stride=(1,), padding=(2,))\n",
       "          (2): ReLU()\n",
       "          (3): Conv1d(100, 100, kernel_size=(5,), stride=(1,), padding=(2,))\n",
       "        )\n",
       "      )\n",
       "    )\n",
       "    (conv1d): Conv1d(4, 100, kernel_size=(1,), stride=(1,))\n",
       "    (linear): Linear(in_features=5000, out_features=1, bias=True)\n",
       "  )\n",
       "  (generator): Generator(\n",
       "    (fc1): Linear(in_features=100, out_features=5000, bias=True)\n",
       "    (block): Sequential(\n",
       "      (0): ResBlock(\n",
       "        (res_block): Sequential(\n",
       "          (0): ReLU()\n",
       "          (1): Conv1d(100, 100, kernel_size=(5,), stride=(1,), padding=(2,))\n",
       "          (2): ReLU()\n",
       "          (3): Conv1d(100, 100, kernel_size=(5,), stride=(1,), padding=(2,))\n",
       "        )\n",
       "      )\n",
       "      (1): ResBlock(\n",
       "        (res_block): Sequential(\n",
       "          (0): ReLU()\n",
       "          (1): Conv1d(100, 100, kernel_size=(5,), stride=(1,), padding=(2,))\n",
       "          (2): ReLU()\n",
       "          (3): Conv1d(100, 100, kernel_size=(5,), stride=(1,), padding=(2,))\n",
       "        )\n",
       "      )\n",
       "      (2): ResBlock(\n",
       "        (res_block): Sequential(\n",
       "          (0): ReLU()\n",
       "          (1): Conv1d(100, 100, kernel_size=(5,), stride=(1,), padding=(2,))\n",
       "          (2): ReLU()\n",
       "          (3): Conv1d(100, 100, kernel_size=(5,), stride=(1,), padding=(2,))\n",
       "        )\n",
       "      )\n",
       "      (3): ResBlock(\n",
       "        (res_block): Sequential(\n",
       "          (0): ReLU()\n",
       "          (1): Conv1d(100, 100, kernel_size=(5,), stride=(1,), padding=(2,))\n",
       "          (2): ReLU()\n",
       "          (3): Conv1d(100, 100, kernel_size=(5,), stride=(1,), padding=(2,))\n",
       "        )\n",
       "      )\n",
       "      (4): ResBlock(\n",
       "        (res_block): Sequential(\n",
       "          (0): ReLU()\n",
       "          (1): Conv1d(100, 100, kernel_size=(5,), stride=(1,), padding=(2,))\n",
       "          (2): ReLU()\n",
       "          (3): Conv1d(100, 100, kernel_size=(5,), stride=(1,), padding=(2,))\n",
       "        )\n",
       "      )\n",
       "    )\n",
       "    (conv1): Conv1d(100, 4, kernel_size=(1,), stride=(1,))\n",
       "    (softmax): Softmax()\n",
       "  )\n",
       ")"
      ]
     },
     "execution_count": 128,
     "metadata": {},
     "output_type": "execute_result"
    }
   ],
   "source": [
    "gan = wgan_gp\n",
    "gan.eval()"
   ]
  },
  {
   "cell_type": "code",
   "execution_count": 129,
   "metadata": {},
   "outputs": [
    {
     "name": "stdout",
     "output_type": "stream",
     "text": [
      "Generated Sequence 1: tacgcaaacgttccaacacccctaggtcagccaccacagggtagcaacac\n",
      "Generated Sequence 2: atctatcatcccgtaactgtcctattctcagcccagttaaatccccctgc\n",
      "Generated Sequence 3: acaacagtttccactgcagctctcagtaccagaacaatcggattggctct\n",
      "Generated Sequence 4: accaaggcacgccctaccctcaacccatctcccaacgattcccttacgca\n",
      "Generated Sequence 5: cacacactgcggcagtcactccgacctccccgccggatgcgcagtgctcc\n",
      "Generated Sequence 6: gacgctcaaccgcgagcctcgctttccgaacacccaaaggttagcctgcg\n",
      "Generated Sequence 7: agacacaactcccttgcgctccagctcagtaataatacccgtccatgcat\n",
      "Generated Sequence 8: tgccgccagaaatcccgccggaagctggctccgcagccctacgcccgatc\n",
      "Generated Sequence 9: acccaactactcccgagtcgccgctccgctctgcgtaagaagtatgcctc\n",
      "Generated Sequence 10: cggacatcgcgtcacatgcccgttagccgcctgctctggtcctaccggac\n"
     ]
    }
   ],
   "source": [
    "# Sample batch of 10 vectors from latent space\n",
    "batch_of_latent = to_cuda(torch.randn(10, 100))\n",
    "\n",
    "# Generate Sequences\n",
    "generated_sequence = gan.generator(batch_of_latent).detach()\n",
    "\n",
    "for i in range(10):\n",
    "    print(\"Generated Sequence %d: %s\" % (i+1, one_hot_to_seq(generated_sequence[i].max(dim=1)[1])))"
   ]
  },
  {
   "cell_type": "markdown",
   "metadata": {
    "slideshow": {
     "slide_type": "slide"
    }
   },
   "source": [
    "## Analyze Kmer proportions"
   ]
  },
  {
   "cell_type": "code",
   "execution_count": 275,
   "metadata": {
    "slideshow": {
     "slide_type": "skip"
    }
   },
   "outputs": [],
   "source": [
    "%matplotlib inline\n",
    "from IPython.core.pylabtools import figsize\n",
    "\n",
    "plt.style.use('seaborn-deep')\n",
    "\n",
    "def draw_histogram_for_k(k):\n",
    "    figsize(12, 10)\n",
    "\n",
    "    sorted_keys = sorted(trainer.evaluator.real_kmer_model[k]._kmer_counts.keys())\n",
    "    generated = [trainer.evaluator.kmer_proportions_history[k][-1][key] for key in sorted_keys]\n",
    "    real = [trainer.evaluator.real_kmer_model[k]._kmer_counts[key] for key in sorted_keys]\n",
    "\n",
    "    x = np.array(real)\n",
    "    x = x / np.sum(x)\n",
    "\n",
    "    y = np.array(generated)\n",
    "    y = y / np.sum(y)\n",
    "\n",
    "    ind = np.arange(4**k)  # the x locations for the groups\n",
    "    width = 0.35       # the width of the bars\n",
    "\n",
    "    ax = plt.subplot(2, 2, k + 1)\n",
    "    real = ax.bar(ind, x, width, color='magenta', alpha=0.5)\n",
    "    generated = ax.bar(ind + width, y, width, color='b', alpha=0.5)\n",
    "\n",
    "    # add some text for labels, title and axes ticks\n",
    "    ax.set_ylabel('Frequency')\n",
    "    ax.set_title('Real and Generated')\n",
    "    ax.set_xticks(ind + width / 2)\n",
    "    ax.set_xticklabels(sorted_keys)\n",
    "\n",
    "    ax.legend((real[0], generated[0]), ('real', 'generated'))\n",
    "    plt.tight_layout()\n",
    "    plt.show()"
   ]
  },
  {
   "cell_type": "code",
   "execution_count": 276,
   "metadata": {
    "slideshow": {
     "slide_type": "slide"
    }
   },
   "outputs": [
    {
     "data": {
      "image/png": "[encoded data removed]",
      "text/plain": [
       "<matplotlib.figure.Figure at 0x7ff2c2b91d68>"
      ]
     },
     "metadata": {},
     "output_type": "display_data"
    },
    {
     "data": {
      "image/png": "[encoded data removed]",
      "text/plain": [
       "<matplotlib.figure.Figure at 0x7ff36e5c5ac8>"
      ]
     },
     "metadata": {},
     "output_type": "display_data"
    }
   ],
   "source": [
    "for k in [1,2]:\n",
    "    draw_histogram_for_k(k)"
   ]
  },
  {
   "cell_type": "code",
   "execution_count": null,
   "metadata": {},
   "outputs": [],
   "source": []
  }
 ],
 "metadata": {
  "kernelspec": {
   "display_name": "gans",
   "language": "python",
   "name": "gans"
  },
  "language_info": {
   "codemirror_mode": {
    "name": "ipython",
    "version": 3
   },
   "file_extension": ".py",
   "mimetype": "text/x-python",
   "name": "python",
   "nbconvert_exporter": "python",
   "pygments_lexer": "ipython3",
   "version": "3.6.6"
  }
 },
 "nbformat": 4,
 "nbformat_minor": 2
}
